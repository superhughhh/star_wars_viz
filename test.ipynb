{
 "cells": [
  {
   "cell_type": "code",
   "execution_count": 44,
   "metadata": {},
   "outputs": [],
   "source": [
    "import requests\n",
    "import pandas as pd\n",
    "from json import loads\n",
    "import re"
   ]
  },
  {
   "cell_type": "code",
   "execution_count": 33,
   "metadata": {},
   "outputs": [
    {
     "data": {
      "text/plain": [
       "{'count': 1,\n",
       " 'next': None,\n",
       " 'previous': None,\n",
       " 'results': [{'name': 'Darth Vader',\n",
       "   'height': '202',\n",
       "   'mass': '136',\n",
       "   'hair_color': 'none',\n",
       "   'skin_color': 'white',\n",
       "   'eye_color': 'yellow',\n",
       "   'birth_year': '41.9BBY',\n",
       "   'gender': 'male',\n",
       "   'homeworld': 'https://swapi.dev/api/planets/1/',\n",
       "   'films': ['https://swapi.dev/api/films/1/',\n",
       "    'https://swapi.dev/api/films/2/',\n",
       "    'https://swapi.dev/api/films/3/',\n",
       "    'https://swapi.dev/api/films/6/'],\n",
       "   'species': [],\n",
       "   'vehicles': [],\n",
       "   'starships': ['https://swapi.dev/api/starships/13/'],\n",
       "   'created': '2014-12-10T15:18:20.704000Z',\n",
       "   'edited': '2014-12-20T21:17:50.313000Z',\n",
       "   'url': 'https://swapi.dev/api/people/4/'}]}"
      ]
     },
     "execution_count": 33,
     "metadata": {},
     "output_type": "execute_result"
    }
   ],
   "source": [
    "attributes = \"people/\"\n",
    "research = '?search=Vader'\n",
    "response = requests.get(f\"https://swapi.dev/api/{attributes}{research}\")\n",
    "#print(response.status_code)\n",
    "bytes_json = response.content\n",
    "final_json = loads(bytes_json)\n",
    "final_json"
   ]
  },
  {
   "cell_type": "code",
   "execution_count": 34,
   "metadata": {},
   "outputs": [
    {
     "ename": "SyntaxError",
     "evalue": "'return' outside function (708789716.py, line 15)",
     "output_type": "error",
     "traceback": [
      "\u001b[0;36m  Cell \u001b[0;32mIn [34], line 15\u001b[0;36m\u001b[0m\n\u001b[0;31m    return r\u001b[0m\n\u001b[0m    ^\u001b[0m\n\u001b[0;31mSyntaxError\u001b[0m\u001b[0;31m:\u001b[0m 'return' outside function\n"
     ]
    }
   ],
   "source": [
    "attributes = \"people/\"\n",
    "research = ''\n",
    "response = requests.get(f\"https://swapi.dev/api/{attributes}{research}\")\n",
    "#print(response.status_code)\n",
    "bytes_json = response.content\n",
    "final_json = loads(bytes_json)\n",
    "if final_json[\"next\"]: \n",
    "    r = []\n",
    "    while final_json[\"next\"]:\n",
    "        response = requests.get(final_json[\"next\"], json)\n",
    "        r.extend(final_json[\"results\"])\n",
    "        final_json = {\"next\":'https://swapi.dev/api/people/?search=&page=1'}\n",
    "        n_page = int(final_json[\"next\"][-1::]) + 1\n",
    "        final_json[\"next\"] = 'https://swapi.dev/api/people/?search=&page=' + str(n_page)\n",
    "    return r\n",
    "return final_json[\"results\"]"
   ]
  },
  {
   "cell_type": "code",
   "execution_count": 63,
   "metadata": {},
   "outputs": [
    {
     "name": "stdout",
     "output_type": "stream",
     "text": [
      "https://swapi.dev/api/planets/?search=t&page=2\n",
      "3\n",
      "https://swapi.dev/api/planets/?search=t&page=3\n"
     ]
    }
   ],
   "source": [
    "def requete(catégories, recherche):\n",
    "    attributes = f\"{catégories}/\"\n",
    "    research = f'?search={recherche}'\n",
    "    response = requests.get(f\"https://swapi.dev/api/{attributes}{research}\")\n",
    "    #print(response.status_code)\n",
    "    bytes_json = response.content\n",
    "    final_json = loads(bytes_json)\n",
    "    if final_json[\"next\"]:\n",
    "        r = final_json['results']\n",
    "        while final_json[\"next\"]:\n",
    "            print(final_json[\"next\"])\n",
    "            response = requests.get(final_json[\"next\"])\n",
    "            bytes_json = response.content\n",
    "            final_json = loads(bytes_json)\n",
    "            r.extend(final_json[\"results\"])\n",
    "            try:\n",
    "                page_match = re.search(r'page=(\\d+)', final_json[\"next\"])\n",
    "                page = int(page_match.group(1))\n",
    "                print(page)\n",
    "                next_page_url = f'https://swapi.dev/api/{catégories}/?search={recherche}&page={page}'\n",
    "                final_json[\"next\"] = next_page_url\n",
    "            except:\n",
    "                final_json[\"next\"] = None\n",
    "        return r\n",
    "    return final_json[\"results\"]\n",
    "\n",
    "result = requete('planets', 't')"
   ]
  },
  {
   "cell_type": "code",
   "execution_count": 64,
   "metadata": {},
   "outputs": [
    {
     "data": {
      "text/plain": [
       "['Tatooine',\n",
       " 'Hoth',\n",
       " 'Coruscant',\n",
       " 'Utapau',\n",
       " 'Mustafar',\n",
       " 'Mygeeto',\n",
       " 'Cato Neimoidia',\n",
       " 'Stewjon',\n",
       " 'Nal Hutta',\n",
       " 'Dantooine',\n",
       " 'Bestine IV',\n",
       " 'Ord Mantell',\n",
       " 'Trandosha',\n",
       " 'Sullust',\n",
       " 'Toydaria',\n",
       " 'Malastare',\n",
       " 'Dathomir',\n",
       " 'Ryloth',\n",
       " 'Vulpter',\n",
       " 'Troiken',\n",
       " 'Tund',\n",
       " 'Tholoth',\n",
       " 'Iktotch',\n",
       " 'Muunilinst']"
      ]
     },
     "execution_count": 64,
     "metadata": {},
     "output_type": "execute_result"
    }
   ],
   "source": [
    "[result[i]['name'] for i in range(len(result))]"
   ]
  }
 ],
 "metadata": {
  "kernelspec": {
   "display_name": "simplon",
   "language": "python",
   "name": "python3"
  },
  "language_info": {
   "codemirror_mode": {
    "name": "ipython",
    "version": 3
   },
   "file_extension": ".py",
   "mimetype": "text/x-python",
   "name": "python",
   "nbconvert_exporter": "python",
   "pygments_lexer": "ipython3",
   "version": "3.8.12"
  },
  "orig_nbformat": 4,
  "vscode": {
   "interpreter": {
    "hash": "5ffc3325ec5109096cbaad909e2c7efe120797c08b76aeb49d9e3349cd32bd2b"
   }
  }
 },
 "nbformat": 4,
 "nbformat_minor": 2
}
